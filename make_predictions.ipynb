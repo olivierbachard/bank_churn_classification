{
 "cells": [
  {
   "cell_type": "code",
   "execution_count": 32,
   "metadata": {},
   "outputs": [],
   "source": [
    "import seaborn as sns\n",
    "import pandas as pd\n",
    "import matplotlib\n",
    "import matplotlib.pyplot as plt\n",
    "from sklearn.linear_model import LogisticRegression\n",
    "from scipy.stats import chi2_contingency, ttest_ind, pearsonr\n",
    "from sklearn import set_config\n",
    "\n",
    "set_config(transform_output=\"pandas\")\n",
    "\n",
    "# link to Kaggle competition\n",
    "# https://www.kaggle.com/competitions/mlpro-classification-bank-churn-2025\n"
   ]
  },
  {
   "cell_type": "code",
   "execution_count": 33,
   "metadata": {},
   "outputs": [],
   "source": [
    "# Dataset\n",
    "# Customer ID : Un identifiant pour chaque client\n",
    "# Surname : Le nom de famille du client\n",
    "# Credit Score : Une valeur numérique représentant le score de crédit du client\n",
    "# Geography : Le pays où réside le client (France, Spain ou Germany)\n",
    "# Gender : Le genre du client (Male or Female)\n",
    "# Age : L’âge du client\n",
    "# Tenure : Le nombre d’années pendant lesquelles le client est avec la banque\n",
    "# Balance : Le solde du compte du client\n",
    "# NumOfProducts : Le nombre de produits bancaires utilisés par le client (par exemple, compte d’épargne, carte de crédit)\n",
    "# HasCrCard : Si le client possède une carte de crédit (1 = oui, 0 = non)\n",
    "# IsActiveMember : Si le client est un membre actif (1 = oui, 0 = non)\n",
    "# EstimatedSalary : Le salaire estimé du client\n",
    "# Exited : Si le client a résilié (1 = oui, 0 = non)\n",
    "\n",
    "df = pd.read_csv('data/train_data.csv')\n",
    "df_test = pd.read_csv('data/test_data.csv')\n"
   ]
  },
  {
   "cell_type": "code",
   "execution_count": 34,
   "metadata": {},
   "outputs": [],
   "source": [
    "# Encoding des variable Geography et Gender\n",
    "\n",
    "from sklearn.compose import ColumnTransformer\n",
    "from sklearn.discriminant_analysis import StandardScaler\n",
    "from sklearn.pipeline import Pipeline\n",
    "from sklearn.preprocessing import MinMaxScaler, OneHotEncoder\n",
    "from sklearn.ensemble import GradientBoostingClassifier, RandomForestClassifier\n",
    "from sklearn.neighbors import KNeighborsClassifier\n",
    "from sklearn.tree import DecisionTreeClassifier\n",
    "\n",
    "column_transformer = ColumnTransformer(transformers=[\n",
    "   (\"Encoder\", OneHotEncoder(sparse_output=False, drop=\"first\"), [\"Geography\", \"Gender\"]),\n",
    "   (\"MinMaxScaler\", MinMaxScaler(), ['Tenure', 'NumOfProducts', 'Balance', \"EstimatedSalary\"]),\n",
    "   (\"StandardScaler\", StandardScaler(), ['CreditScore', 'Age'])], \n",
    "   remainder=\"passthrough\",\n",
    "   verbose_feature_names_out=False)\n",
    "\n",
    "# remove age outliers\n",
    "df = df.query('Age < 90')\n",
    "training_df = df.drop('Exited', axis=1)\n",
    "\n",
    "pipeline = Pipeline(steps=[(\"Encoding + Normalisation\", column_transformer)])\n",
    "training_df = pipeline.fit_transform(training_df)\n",
    "\n",
    "predictions_columns = [\n",
    "   \"Geography_Germany\",\n",
    "   \"Geography_Spain\",\n",
    "   \"Gender_Male\", \n",
    "   \"Tenure\", \n",
    "   \"IsActiveMember\", \n",
    "   \"NumOfProducts\", \n",
    "   \"Balance\",\n",
    "   \"Age\",\n",
    "   \"HasCrCard\", \n",
    "   \"EstimatedSalary\",\n",
    "   \"CreditScore\"]\n",
    "\n",
    "X_train = training_df[predictions_columns]\n",
    "y_train = df[\"Exited\"]\n",
    "\n",
    "\n",
    "model = GradientBoostingClassifier(learning_rate=0.2, n_estimators=250, max_depth=3, min_samples_split=3)\n",
    "model.fit(X_train, y_train, sample_weight=[2 if y == 1 else 1 for y in y_train])\n",
    "\n",
    "df_test = pipeline.transform(df_test)\n",
    "df_test\n",
    "\n",
    "X_test = df_test[predictions_columns]\n",
    "predictions = model.predict(X_test)\n",
    "predictions\n",
    "\n",
    "results = pd.DataFrame({\n",
    "   \"ID\": df_test[\"ID\"],\n",
    "   \"Exited\": predictions\n",
    "})\n",
    "results = results.set_index(\"ID\")\n",
    "results\n",
    "results.to_csv(\"submission.csv\")\n"
   ]
  },
  {
   "cell_type": "markdown",
   "metadata": {},
   "source": [
    "Test with GradientBoostingClassifier :\n",
    "- learning_rate=0.2\n",
    "- n_estimators=250\n",
    "- max_depth=3\n",
    "- min-samples_split=3\n",
    "- clean outliers on Age >= 90\n",
    "- sample_weight on Exited"
   ]
  }
 ],
 "metadata": {
  "kernelspec": {
   "display_name": "bank_churn_classification",
   "language": "python",
   "name": "python3"
  },
  "language_info": {
   "codemirror_mode": {
    "name": "ipython",
    "version": 3
   },
   "file_extension": ".py",
   "mimetype": "text/x-python",
   "name": "python",
   "nbconvert_exporter": "python",
   "pygments_lexer": "ipython3",
   "version": "3.13.2"
  }
 },
 "nbformat": 4,
 "nbformat_minor": 2
}
